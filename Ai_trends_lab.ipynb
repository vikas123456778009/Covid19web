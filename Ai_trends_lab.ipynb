{
  "nbformat": 4,
  "nbformat_minor": 0,
  "metadata": {
    "colab": {
      "provenance": [],
      "authorship_tag": "ABX9TyN6BeCvsATalOf5ikbyOdUv",
      "include_colab_link": true
    },
    "kernelspec": {
      "name": "python3",
      "display_name": "Python 3"
    },
    "language_info": {
      "name": "python"
    }
  },
  "cells": [
    {
      "cell_type": "markdown",
      "metadata": {
        "id": "view-in-github",
        "colab_type": "text"
      },
      "source": [
        "<a href=\"https://colab.research.google.com/github/vikas123456778009/Covid19web/blob/master/Ai_trends_lab.ipynb\" target=\"_parent\"><img src=\"https://colab.research.google.com/assets/colab-badge.svg\" alt=\"Open In Colab\"/></a>"
      ]
    },
    {
      "cell_type": "code",
      "execution_count": 1,
      "metadata": {
        "id": "lkYxux1igFLZ"
      },
      "outputs": [],
      "source": [
        "!apt-get install openjdk-8-jdk-headless -qq > /dev/null\n",
        "!wget -q http://archive.apache.org/dist/spark/spark-3.1.1/spark-3.1.1-bin-hadoop3.2.tgz\n",
        "!tar xf spark-3.1.1-bin-hadoop3.2.tgz\n",
        "!pip install -q findspark"
      ]
    },
    {
      "cell_type": "code",
      "source": [
        "import os\n",
        "os.environ[\"JAVA_HOME\"] = \"/usr/lib/jvm/java-8-openjdk-amd64\"\n",
        "os.environ[\"SPARK_HOME\"] = \"/content/spark-3.1.1-bin-hadoop3.2\""
      ],
      "metadata": {
        "id": "eB35aq6zgUU_"
      },
      "execution_count": 2,
      "outputs": []
    },
    {
      "cell_type": "code",
      "source": [
        "!ls"
      ],
      "metadata": {
        "colab": {
          "base_uri": "https://localhost:8080/"
        },
        "id": "RaKFbvVPgZL9",
        "outputId": "98cfc70a-8b55-43e0-9a26-8256826d514e"
      },
      "execution_count": 3,
      "outputs": [
        {
          "output_type": "stream",
          "name": "stdout",
          "text": [
            "sample_data  spark-3.1.1-bin-hadoop3.2\tspark-3.1.1-bin-hadoop3.2.tgz\n"
          ]
        }
      ]
    },
    {
      "cell_type": "code",
      "source": [
        "import findspark\n",
        "findspark.init()\n",
        "from pyspark.sql import SparkSession\n",
        "spark = SparkSession.builder.master(\"local[*]\").getOrCreate()\n",
        "spark.conf.set(\"spark.sql.repl.eagerEval.enabled\", True) # Property used to format output tables better\n",
        "spark"
      ],
      "metadata": {
        "colab": {
          "base_uri": "https://localhost:8080/",
          "height": 219
        },
        "id": "1kAJS5_5gchv",
        "outputId": "a5568e0b-5afd-433f-85e2-1d13187c22d8"
      },
      "execution_count": 4,
      "outputs": [
        {
          "output_type": "execute_result",
          "data": {
            "text/plain": [
              "<pyspark.sql.session.SparkSession at 0x7c2f8413fd00>"
            ],
            "text/html": [
              "\n",
              "            <div>\n",
              "                <p><b>SparkSession - in-memory</b></p>\n",
              "                \n",
              "        <div>\n",
              "            <p><b>SparkContext</b></p>\n",
              "\n",
              "            <p><a href=\"http://098f042cd30d:4040\">Spark UI</a></p>\n",
              "\n",
              "            <dl>\n",
              "              <dt>Version</dt>\n",
              "                <dd><code>v3.1.1</code></dd>\n",
              "              <dt>Master</dt>\n",
              "                <dd><code>local[*]</code></dd>\n",
              "              <dt>AppName</dt>\n",
              "                <dd><code>pyspark-shell</code></dd>\n",
              "            </dl>\n",
              "        </div>\n",
              "        \n",
              "            </div>\n",
              "        "
            ]
          },
          "metadata": {},
          "execution_count": 4
        }
      ]
    },
    {
      "cell_type": "code",
      "source": [
        "spark = SparkSession.builder.appName(\"Transactions\").getOrCreate()"
      ],
      "metadata": {
        "id": "HoDCrwb-gmAo"
      },
      "execution_count": 5,
      "outputs": []
    },
    {
      "cell_type": "code",
      "source": [
        "import pandas as pd\n",
        "df = pd.read_fwf('txns.txt')\n",
        "df.to_csv('txns.csv')"
      ],
      "metadata": {
        "id": "CAWCmWYkhXdR"
      },
      "execution_count": 6,
      "outputs": []
    },
    {
      "cell_type": "code",
      "source": [
        "!ls\n"
      ],
      "metadata": {
        "colab": {
          "base_uri": "https://localhost:8080/"
        },
        "id": "-6EXQ-4zhcg5",
        "outputId": "ccaa6766-8e76-4835-94e7-0678cd8ca234"
      },
      "execution_count": 7,
      "outputs": [
        {
          "output_type": "stream",
          "name": "stdout",
          "text": [
            "sample_data  spark-3.1.1-bin-hadoop3.2\tspark-3.1.1-bin-hadoop3.2.tgz  txns.csv  txns.txt\n"
          ]
        }
      ]
    },
    {
      "cell_type": "code",
      "source": [
        "transactions_df = spark.read.csv(\"/content/txns.txt\", header=False, inferSchema=True)"
      ],
      "metadata": {
        "id": "HIBrSMJJhhJ7"
      },
      "execution_count": 12,
      "outputs": []
    },
    {
      "cell_type": "code",
      "source": [
        "transactions_df.printSchema()"
      ],
      "metadata": {
        "colab": {
          "base_uri": "https://localhost:8080/"
        },
        "id": "w63ukAafhsKu",
        "outputId": "92859ff4-a073-4569-84d8-d84674a715a0"
      },
      "execution_count": 13,
      "outputs": [
        {
          "output_type": "stream",
          "name": "stdout",
          "text": [
            "root\n",
            " |-- _c0: integer (nullable = true)\n",
            " |-- _c1: string (nullable = true)\n",
            " |-- _c2: integer (nullable = true)\n",
            " |-- _c3: double (nullable = true)\n",
            " |-- _c4: string (nullable = true)\n",
            " |-- _c5: string (nullable = true)\n",
            " |-- _c6: string (nullable = true)\n",
            " |-- _c7: string (nullable = true)\n",
            " |-- _c8: string (nullable = true)\n",
            "\n"
          ]
        }
      ]
    },
    {
      "cell_type": "code",
      "source": [
        "columns = [\"txnno\", \"txndate\", \"custid\", \"amount\", \"product\", \"category\", \"city\", \"state\", \"spendby\"]"
      ],
      "metadata": {
        "id": "XXlxS6Qhjx3P"
      },
      "execution_count": 14,
      "outputs": []
    },
    {
      "cell_type": "code",
      "source": [
        "transactions_df = transactions_df.toDF(*columns)"
      ],
      "metadata": {
        "id": "3xZ07ydzj2OQ"
      },
      "execution_count": 15,
      "outputs": []
    },
    {
      "cell_type": "code",
      "source": [
        "total_transactions_per_customer = transactions_df.groupBy(\"custid\").count()"
      ],
      "metadata": {
        "id": "ZBiaPJQMj3us"
      },
      "execution_count": 17,
      "outputs": []
    },
    {
      "cell_type": "code",
      "source": [
        "total_transactions_per_customer.show()"
      ],
      "metadata": {
        "colab": {
          "base_uri": "https://localhost:8080/"
        },
        "id": "Vj-AIGTykHiN",
        "outputId": "61d792e3-880d-4447-a494-c21f00627ba0"
      },
      "execution_count": 18,
      "outputs": [
        {
          "output_type": "stream",
          "name": "stdout",
          "text": [
            "+-------+-----+\n",
            "| custid|count|\n",
            "+-------+-----+\n",
            "|4000009|    6|\n",
            "|4000001|    8|\n",
            "|4000006|    5|\n",
            "|4000005|    5|\n",
            "|4000008|   10|\n",
            "|4000004|    5|\n",
            "|4000003|    3|\n",
            "|4000010|    6|\n",
            "|4000007|    6|\n",
            "|4000002|    6|\n",
            "+-------+-----+\n",
            "\n"
          ]
        }
      ]
    },
    {
      "cell_type": "code",
      "source": [
        "customer_total_spend = transactions_df.groupBy(\"custid\").sum(\"amount\")"
      ],
      "metadata": {
        "id": "Jj-F1J5XkUNc"
      },
      "execution_count": 19,
      "outputs": []
    },
    {
      "cell_type": "code",
      "source": [
        "customer_total_spend.show()"
      ],
      "metadata": {
        "colab": {
          "base_uri": "https://localhost:8080/"
        },
        "id": "Lh6NMcMhkV4P",
        "outputId": "3cca7921-d3c8-4ab4-8300-dfb1ad7f784b"
      },
      "execution_count": 21,
      "outputs": [
        {
          "output_type": "stream",
          "name": "stdout",
          "text": [
            "+-------+------------------+\n",
            "| custid|       sum(amount)|\n",
            "+-------+------------------+\n",
            "|4000009|            457.83|\n",
            "|4000001|            651.05|\n",
            "|4000006|            539.38|\n",
            "|4000005|            325.15|\n",
            "|4000008|            859.42|\n",
            "|4000004|            337.06|\n",
            "|4000003| 527.5899999999999|\n",
            "|4000010|447.09000000000003|\n",
            "|4000007| 699.5500000000001|\n",
            "|4000002|            706.97|\n",
            "+-------+------------------+\n",
            "\n"
          ]
        }
      ]
    },
    {
      "cell_type": "code",
      "source": [
        "credit_transactions = transactions_df.filter(transactions_df[\"spendby\"] == \"credit\")"
      ],
      "metadata": {
        "id": "lthjN6qpkdL7"
      },
      "execution_count": 23,
      "outputs": []
    },
    {
      "cell_type": "code",
      "source": [
        "credit_customers = credit_transactions.select(\"custid\").distinct().count()\n"
      ],
      "metadata": {
        "id": "k_0jA01ek1C9"
      },
      "execution_count": 24,
      "outputs": []
    },
    {
      "cell_type": "code",
      "source": [
        "print(f\"Total Customers by Credit Card: {credit_customers}\")"
      ],
      "metadata": {
        "colab": {
          "base_uri": "https://localhost:8080/"
        },
        "id": "tIUkmVZ6k5r2",
        "outputId": "bee376f0-21e2-4332-e926-6e508132a712"
      },
      "execution_count": 25,
      "outputs": [
        {
          "output_type": "stream",
          "name": "stdout",
          "text": [
            "Total Customers by Credit Card: 10\n"
          ]
        }
      ]
    },
    {
      "cell_type": "code",
      "source": [
        "cash_transactions = transactions_df.filter(transactions_df[\"spendby\"] == \"cash\")\n"
      ],
      "metadata": {
        "id": "AVs4RKswk7fO"
      },
      "execution_count": 26,
      "outputs": []
    },
    {
      "cell_type": "code",
      "source": [
        "cash_customers = cash_transactions.select(\"custid\").distinct().count()\n"
      ],
      "metadata": {
        "id": "SqGeXx5nlDeO"
      },
      "execution_count": 27,
      "outputs": []
    },
    {
      "cell_type": "code",
      "source": [
        "print(f\"Total Customers by Cash: {cash_customers}\")"
      ],
      "metadata": {
        "colab": {
          "base_uri": "https://localhost:8080/"
        },
        "id": "AnZQKp_zlJGV",
        "outputId": "1064ab35-0f32-49ac-eb9d-0866afd2728f"
      },
      "execution_count": 28,
      "outputs": [
        {
          "output_type": "stream",
          "name": "stdout",
          "text": [
            "Total Customers by Cash: 4\n"
          ]
        }
      ]
    },
    {
      "cell_type": "code",
      "source": [
        "transactions_df.show(64)"
      ],
      "metadata": {
        "colab": {
          "base_uri": "https://localhost:8080/"
        },
        "id": "KXupZV_jlOVS",
        "outputId": "29a71be4-f18a-47e5-8e44-75d70c4690f8"
      },
      "execution_count": 34,
      "outputs": [
        {
          "output_type": "stream",
          "name": "stdout",
          "text": [
            "+-----+----------+-------+------+--------------------+--------------------+--------------+--------------+-------+\n",
            "|txnno|   txndate| custid|amount|             product|            category|          city|         state|spendby|\n",
            "+-----+----------+-------+------+--------------------+--------------------+--------------+--------------+-------+\n",
            "|    0|06-26-2011|4000001| 40.33|  Exercise & Fitness|Cardio Machine Ac...|   Clarksville|     Tennessee| credit|\n",
            "|    1|05-26-2011|4000002|198.44|  Exercise & Fitness|Weightlifting Gloves|    Long Beach|    California| credit|\n",
            "|    2|06-01-2011|4000002|  5.58|  Exercise & Fitness|Weightlifting Mac...|       Anaheim|    California| credit|\n",
            "|    3|06-05-2011|4000003|198.19|          Gymnastics|    Gymnastics Rings|     Milwaukee|     Wisconsin| credit|\n",
            "|    4|12-17-2011|4000002| 98.81|         Team Sports|        Field Hockey|   Nashville  |     Tennessee| credit|\n",
            "|    5|02-14-2011|4000004|193.63|  Outdoor Recreation|Camping & Backpac...|       Chicago|      Illinois| credit|\n",
            "|    6|10-28-2011|4000005| 27.89|             Puzzles|      Jigsaw Puzzles|    Charleston|South Carolina| credit|\n",
            "|    7|07-14-2011|4000006| 96.01|Outdoor Play Equi...|           Sandboxes|      Columbus|          Ohio| credit|\n",
            "|    8|01-17-2011|4000006| 10.44|       Winter Sports|        Snowmobiling|    Des Moines|          Iowa| credit|\n",
            "|    9|05-17-2011|4000006|152.46|             Jumping|      Bungee Jumping|St. Petersburg|       Florida| credit|\n",
            "|   10|05-29-2011|4000007|180.28|  Outdoor Recreation|             Archery|          Reno|        Nevada| credit|\n",
            "|   11|06-18-2011|4000009|121.39|Outdoor Play Equi...|          Swing Sets|      Columbus|          Ohio| credit|\n",
            "|   12|02-08-2011|4000009| 41.52|        Indoor Games|             Bowling| San Francisco|    California| credit|\n",
            "|   13|03-13-2011|4000010| 107.8|         Team Sports|        Field Hockey|    Honolulu  |        Hawaii| credit|\n",
            "|   14|02-25-2011|4000010| 36.81|          Gymnastics|     Vaulting Horses|   Los Angeles|    California| credit|\n",
            "|   15|10-20-2011|4000001|137.64|       Combat Sports|             Fencing|    Honolulu  |        Hawaii| credit|\n",
            "|   16|05-28-2011|4000010| 35.56|  Exercise & Fitness|    Free Weight Bars|      Columbia|South Carolina| credit|\n",
            "|   17|10-18-2011|4000008| 75.55|        Water Sports|Scuba Diving & Sn...|         Omaha|      Nebraska| credit|\n",
            "|   18|11-18-2011|4000008| 88.65|         Team Sports|            Baseball|Salt Lake City|          Utah| credit|\n",
            "|   19|08-28-2011|4000008| 51.81|        Water Sports|        Life Jackets|        Newark|    New Jersey| credit|\n",
            "|   20|06-29-2011|4000005| 41.55|  Exercise & Fitness| Weightlifting Belts|   New Orleans|     Louisiana| credit|\n",
            "|   21|02-14-2011|4000005| 45.79|          Air Sports|          Parachutes|      New York|      New York| credit|\n",
            "|   22|10-10-2011|4000009| 19.64|        Water Sports|         Kitesurfing|    Saint Paul|     Minnesota| credit|\n",
            "|   23|05-02-2011|4000009|  99.5|          Gymnastics|    Gymnastics Rings|   Springfield|      Illinois| credit|\n",
            "|   24|06-10-2011|4000003| 151.2|        Water Sports|             Surfing|         Plano|         Texas| credit|\n",
            "|   25|10-14-2011|4000009| 144.2|        Indoor Games|               Darts|       Phoenix|       Arizona| credit|\n",
            "|   26|10-11-2011|4000009| 31.58|       Combat Sports|           Wrestling|        Orange|    California| credit|\n",
            "|   27|09-29-2011|4000010|  66.4|               Games|             Mahjong|       Fremont|    California| credit|\n",
            "|   28|05-12-2011|4000008| 79.78|         Team Sports|             Cricket|     Lexington|      Kentucky| credit|\n",
            "|   29|06-03-2011|4000001| 126.9|  Outdoor Recreation|             Hunting|       Phoenix|       Arizona| credit|\n",
            "|   30|03-14-2011|4000001| 47.05|        Water Sports|            Swimming|       Lincoln|      Nebraska| credit|\n",
            "|   31|11-28-2011|4000008|  5.03|               Games|    Dice & Dice Sets|   Los Angeles|    California| credit|\n",
            "|   32|01-29-2011|4000008| 20.13|         Team Sports|              Soccer|   Springfield|      Illinois| credit|\n",
            "|   33|06-15-2011|4000008|154.15|  Outdoor Recreation|          Lawn Games|   Nashville  |     Tennessee| credit|\n",
            "|   34|05-06-2011|4000008| 98.96|         Team Sports|   Indoor Volleyball|       Atlanta|       Georgia| credit|\n",
            "|   35|04-12-2011|4000008|185.26|               Games|         Board Games|    Centennial|      Colorado| credit|\n",
            "|   36|10-13-2011|4000007| 35.66|         Team Sports|            Football|    Saint Paul|     Minnesota| credit|\n",
            "|   37|04-19-2011|4000007|  20.2|  Outdoor Recreation|      Shooting Games|     San Diego|    California| credit|\n",
            "|   38|08-05-2011|4000007| 150.6|  Outdoor Recreation|Camping & Backpac...|     Hampton  |      Virginia| credit|\n",
            "|   39|03-12-2011|4000006|174.36|Outdoor Play Equi...|          Swing Sets|    Pittsburgh|  Pennsylvania| credit|\n",
            "|   40|11-07-2011|4000005| 165.1|         Team Sports|        Cheerleading|          Reno|        Nevada| credit|\n",
            "|   41|04-16-2011|4000004| 28.11|        Indoor Games|             Bowling|   Westminster|      Colorado|   cash|\n",
            "|   42|09-10-2011|4000004| 38.52|  Outdoor Recreation|          Tetherball|        Denton|         Texas|   cash|\n",
            "|   43|04-22-2011|4000004| 32.34|        Water Sports|          Water Polo|     Las Vegas|        Nevada|   cash|\n",
            "|   44|09-11-2011|4000001|135.37|        Water Sports|             Surfing|       Seattle|    Washington| credit|\n",
            "|   45|11-27-2011|4000001| 90.04|  Exercise & Fitness| Abdominal Equipment|    Honolulu  |        Hawaii| credit|\n",
            "|   46|05-27-2011|4000001| 52.29|          Gymnastics|     Vaulting Horses|     Cleveland|          Ohio| credit|\n",
            "|   47|10-23-2011|4000008| 100.1|Outdoor Play Equi...|          Swing Sets|       Everett|    Washington| credit|\n",
            "|   48|09-27-2011|4000007|157.94|  Exercise & Fitness|      Exercise Bands|  Philadelphia|  Pennsylvania| credit|\n",
            "|   49|07-12-2011|4000010|144.59|             Jumping|      Jumping Stilts|     Cambridge| Massachusetts| credit|\n",
            "|   50|10-20-2011|4000010| 55.93|             Jumping|         Pogo Sticks|       Everett|    Washington| credit|\n",
            "|   51|02-17-2011|4000002| 32.65|        Water Sports|        Life Jackets|      Columbus|       Georgia|   cash|\n",
            "|   52|02-04-2011|4000005| 44.82|Outdoor Play Equi...|   Lawn Water Slides|     Hampton  |      Virginia|   cash|\n",
            "|   53|06-12-2011|4000004| 44.46|        Water Sports|Scuba Diving & Sn...|    Charleston|South Carolina|   cash|\n",
            "|   54|10-03-2011|4000007|154.87|  Outdoor Recreation|             Running|    Long Beach|    California| credit|\n",
            "|   55|12-16-2011|4000006|106.11|        Water Sports|            Swimming|      New York|      New York| credit|\n",
            "|   56|06-21-2011|4000002|176.63|  Outdoor Recreation|          Geocaching|        Boston| Massachusetts| credit|\n",
            "|   57|12-20-2011|4000003| 178.2|  Outdoor Recreation|             Skating|      San Jose|    California| credit|\n",
            "|   58|12-29-2011|4000002|194.86|        Water Sports|         Windsurfing| Oklahoma City|      Oklahoma| credit|\n",
            "|   59|11-07-2011|4000001| 21.43|       Winter Sports|        Snowboarding|  Philadelphia|  Pennsylvania|   cash|\n",
            "+-----+----------+-------+------+--------------------+--------------------+--------------+--------------+-------+\n",
            "\n"
          ]
        }
      ]
    }
  ]
}